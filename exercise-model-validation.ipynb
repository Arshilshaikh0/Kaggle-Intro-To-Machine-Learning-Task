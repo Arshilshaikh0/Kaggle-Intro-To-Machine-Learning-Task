{
 "cells": [
  {
   "cell_type": "markdown",
   "id": "05bf5eda",
   "metadata": {
    "papermill": {
     "duration": 0.005667,
     "end_time": "2022-08-13T21:15:36.772858",
     "exception": false,
     "start_time": "2022-08-13T21:15:36.767191",
     "status": "completed"
    },
    "tags": []
   },
   "source": [
    "**This notebook is an exercise in the [Introduction to Machine Learning](https://www.kaggle.com/learn/intro-to-machine-learning) course.  You can reference the tutorial at [this link](https://www.kaggle.com/dansbecker/model-validation).**\n",
    "\n",
    "---\n"
   ]
  },
  {
   "cell_type": "markdown",
   "id": "428aea25",
   "metadata": {
    "papermill": {
     "duration": 0.004157,
     "end_time": "2022-08-13T21:15:36.781827",
     "exception": false,
     "start_time": "2022-08-13T21:15:36.777670",
     "status": "completed"
    },
    "tags": []
   },
   "source": [
    "## Recap\n",
    "You've built a model. In this exercise you will test how good your model is.\n",
    "\n",
    "Run the cell below to set up your coding environment where the previous exercise left off."
   ]
  },
  {
   "cell_type": "code",
   "execution_count": 1,
   "id": "1e2cfee5",
   "metadata": {
    "execution": {
     "iopub.execute_input": "2022-08-13T21:15:36.793030Z",
     "iopub.status.busy": "2022-08-13T21:15:36.792571Z",
     "iopub.status.idle": "2022-08-13T21:15:38.228585Z",
     "shell.execute_reply": "2022-08-13T21:15:38.227294Z"
    },
    "papermill": {
     "duration": 1.445865,
     "end_time": "2022-08-13T21:15:38.232309",
     "exception": false,
     "start_time": "2022-08-13T21:15:36.786444",
     "status": "completed"
    },
    "tags": []
   },
   "outputs": [
    {
     "name": "stdout",
     "output_type": "stream",
     "text": [
      "First in-sample predictions: [208500. 181500. 223500. 140000. 250000.]\n",
      "Actual target values for those homes: [208500, 181500, 223500, 140000, 250000]\n",
      "Setup Complete\n"
     ]
    }
   ],
   "source": [
    "# Code you have previously used to load data\n",
    "import pandas as pd\n",
    "from sklearn.tree import DecisionTreeRegressor\n",
    "\n",
    "# Path of the file to read\n",
    "iowa_file_path = '../input/home-data-for-ml-course/train.csv'\n",
    "\n",
    "home_data = pd.read_csv(iowa_file_path)\n",
    "y = home_data.SalePrice\n",
    "feature_columns = ['LotArea', 'YearBuilt', '1stFlrSF', '2ndFlrSF', 'FullBath', 'BedroomAbvGr', 'TotRmsAbvGrd']\n",
    "X = home_data[feature_columns]\n",
    "\n",
    "# Specify Model\n",
    "iowa_model = DecisionTreeRegressor()\n",
    "# Fit Model\n",
    "iowa_model.fit(X, y)\n",
    "\n",
    "print(\"First in-sample predictions:\", iowa_model.predict(X.head()))\n",
    "print(\"Actual target values for those homes:\", y.head().tolist())\n",
    "\n",
    "# Set up code checking\n",
    "from learntools.core import binder\n",
    "binder.bind(globals())\n",
    "from learntools.machine_learning.ex4 import *\n",
    "print(\"Setup Complete\")"
   ]
  },
  {
   "cell_type": "markdown",
   "id": "447672b4",
   "metadata": {
    "papermill": {
     "duration": 0.004396,
     "end_time": "2022-08-13T21:15:38.242631",
     "exception": false,
     "start_time": "2022-08-13T21:15:38.238235",
     "status": "completed"
    },
    "tags": []
   },
   "source": [
    "# Exercises\n",
    "\n",
    "## Step 1: Split Your Data\n",
    "Use the `train_test_split` function to split up your data.\n",
    "\n",
    "Give it the argument `random_state=1` so the `check` functions know what to expect when verifying your code.\n",
    "\n",
    "Recall, your features are loaded in the DataFrame **X** and your target is loaded in **y**.\n"
   ]
  },
  {
   "cell_type": "code",
   "execution_count": 2,
   "id": "ac1e8002",
   "metadata": {
    "execution": {
     "iopub.execute_input": "2022-08-13T21:15:38.253736Z",
     "iopub.status.busy": "2022-08-13T21:15:38.253284Z",
     "iopub.status.idle": "2022-08-13T21:15:38.269859Z",
     "shell.execute_reply": "2022-08-13T21:15:38.268696Z"
    },
    "papermill": {
     "duration": 0.025231,
     "end_time": "2022-08-13T21:15:38.272395",
     "exception": false,
     "start_time": "2022-08-13T21:15:38.247164",
     "status": "completed"
    },
    "tags": []
   },
   "outputs": [
    {
     "data": {
      "application/javascript": [
       "parent.postMessage({\"jupyterEvent\": \"custom.exercise_interaction\", \"data\": {\"outcomeType\": 1, \"valueTowardsCompletion\": 0.25, \"interactionType\": 1, \"questionType\": 2, \"questionId\": \"1_SplitData\", \"learnToolsVersion\": \"0.3.4\", \"failureMessage\": \"\", \"exceptionClass\": \"\", \"trace\": \"\"}}, \"*\")"
      ],
      "text/plain": [
       "<IPython.core.display.Javascript object>"
      ]
     },
     "metadata": {},
     "output_type": "display_data"
    },
    {
     "data": {
      "text/markdown": [
       "<span style=\"color:#33cc33\">Correct</span>"
      ],
      "text/plain": [
       "Correct"
      ]
     },
     "metadata": {},
     "output_type": "display_data"
    }
   ],
   "source": [
    "# Import the train_test_split function and uncomment\n",
    "# from _ import _\n",
    "from sklearn.model_selection import train_test_split\n",
    "# fill in and uncomment\n",
    "train_X, val_X, train_y, val_y = train_test_split(X,y,random_state=1)\n",
    "\n",
    "# Check your answer\n",
    "step_1.check()"
   ]
  },
  {
   "cell_type": "code",
   "execution_count": 3,
   "id": "58fecab9",
   "metadata": {
    "execution": {
     "iopub.execute_input": "2022-08-13T21:15:38.284499Z",
     "iopub.status.busy": "2022-08-13T21:15:38.283707Z",
     "iopub.status.idle": "2022-08-13T21:15:38.292498Z",
     "shell.execute_reply": "2022-08-13T21:15:38.291269Z"
    },
    "papermill": {
     "duration": 0.017908,
     "end_time": "2022-08-13T21:15:38.295120",
     "exception": false,
     "start_time": "2022-08-13T21:15:38.277212",
     "status": "completed"
    },
    "tags": []
   },
   "outputs": [
    {
     "data": {
      "application/javascript": [
       "parent.postMessage({\"jupyterEvent\": \"custom.exercise_interaction\", \"data\": {\"interactionType\": 3, \"questionType\": 2, \"questionId\": \"1_SplitData\", \"learnToolsVersion\": \"0.3.4\", \"valueTowardsCompletion\": 0.0, \"failureMessage\": \"\", \"exceptionClass\": \"\", \"trace\": \"\", \"outcomeType\": 4}}, \"*\")"
      ],
      "text/plain": [
       "<IPython.core.display.Javascript object>"
      ]
     },
     "metadata": {},
     "output_type": "display_data"
    },
    {
     "data": {
      "text/markdown": [
       "<span style=\"color:#33cc99\">Solution:</span> \n",
       "```python\n",
       "from sklearn.model_selection import train_test_split\n",
       "train_X, val_X, train_y, val_y = train_test_split(X, y, random_state=1)\n",
       "```"
      ],
      "text/plain": [
       "Solution: \n",
       "```python\n",
       "from sklearn.model_selection import train_test_split\n",
       "train_X, val_X, train_y, val_y = train_test_split(X, y, random_state=1)\n",
       "```"
      ]
     },
     "metadata": {},
     "output_type": "display_data"
    }
   ],
   "source": [
    "# The lines below will show you a hint or the solution.\n",
    "# step_1.hint() \n",
    "step_1.solution()\n"
   ]
  },
  {
   "cell_type": "markdown",
   "id": "f84bf970",
   "metadata": {
    "papermill": {
     "duration": 0.004546,
     "end_time": "2022-08-13T21:15:38.304994",
     "exception": false,
     "start_time": "2022-08-13T21:15:38.300448",
     "status": "completed"
    },
    "tags": []
   },
   "source": [
    "## Step 2: Specify and Fit the Model\n",
    "\n",
    "Create a `DecisionTreeRegressor` model and fit it to the relevant data.\n",
    "Set `random_state` to 1 again when creating the model."
   ]
  },
  {
   "cell_type": "code",
   "execution_count": 4,
   "id": "f4100a03",
   "metadata": {
    "execution": {
     "iopub.execute_input": "2022-08-13T21:15:38.317100Z",
     "iopub.status.busy": "2022-08-13T21:15:38.316264Z",
     "iopub.status.idle": "2022-08-13T21:15:38.347815Z",
     "shell.execute_reply": "2022-08-13T21:15:38.345638Z"
    },
    "papermill": {
     "duration": 0.042458,
     "end_time": "2022-08-13T21:15:38.352320",
     "exception": false,
     "start_time": "2022-08-13T21:15:38.309862",
     "status": "completed"
    },
    "tags": []
   },
   "outputs": [
    {
     "name": "stdout",
     "output_type": "stream",
     "text": [
      "[186500. 184000. 130000.  92000. 164500. 220000. 335000. 144152. 215000.\n",
      " 262000.]\n",
      "[186500. 184000. 130000.  92000. 164500. 220000. 335000. 144152. 215000.\n",
      " 262000.]\n"
     ]
    },
    {
     "data": {
      "application/javascript": [
       "parent.postMessage({\"jupyterEvent\": \"custom.exercise_interaction\", \"data\": {\"outcomeType\": 1, \"valueTowardsCompletion\": 0.25, \"interactionType\": 1, \"questionType\": 2, \"questionId\": \"2_FitModelWithTrain\", \"learnToolsVersion\": \"0.3.4\", \"failureMessage\": \"\", \"exceptionClass\": \"\", \"trace\": \"\"}}, \"*\")"
      ],
      "text/plain": [
       "<IPython.core.display.Javascript object>"
      ]
     },
     "metadata": {},
     "output_type": "display_data"
    },
    {
     "data": {
      "text/markdown": [
       "<span style=\"color:#33cc33\">Correct</span>"
      ],
      "text/plain": [
       "Correct"
      ]
     },
     "metadata": {},
     "output_type": "display_data"
    }
   ],
   "source": [
    "# You imported DecisionTreeRegressor in your last exercise\n",
    "# and that code has been copied to the setup code above. So, no need to\n",
    "# import it again\n",
    "\n",
    "# Specify the model\n",
    "iowa_model = DecisionTreeRegressor(random_state=1)\n",
    "\n",
    "# Fit iowa_model with the training data.\n",
    "iowa_model.fit(train_X, train_y)\n",
    "\n",
    "# Check your answer\n",
    "step_2.check()"
   ]
  },
  {
   "cell_type": "code",
   "execution_count": 5,
   "id": "f3e1b541",
   "metadata": {
    "execution": {
     "iopub.execute_input": "2022-08-13T21:15:38.366298Z",
     "iopub.status.busy": "2022-08-13T21:15:38.365484Z",
     "iopub.status.idle": "2022-08-13T21:15:38.370859Z",
     "shell.execute_reply": "2022-08-13T21:15:38.369933Z"
    },
    "papermill": {
     "duration": 0.016728,
     "end_time": "2022-08-13T21:15:38.374887",
     "exception": false,
     "start_time": "2022-08-13T21:15:38.358159",
     "status": "completed"
    },
    "tags": []
   },
   "outputs": [],
   "source": [
    "# step_2.hint()\n",
    "# step_2.solution()"
   ]
  },
  {
   "cell_type": "markdown",
   "id": "b3732c47",
   "metadata": {
    "papermill": {
     "duration": 0.008685,
     "end_time": "2022-08-13T21:15:38.390218",
     "exception": false,
     "start_time": "2022-08-13T21:15:38.381533",
     "status": "completed"
    },
    "tags": []
   },
   "source": [
    "## Step 3: Make Predictions with Validation data\n"
   ]
  },
  {
   "cell_type": "code",
   "execution_count": 6,
   "id": "73007b1b",
   "metadata": {
    "execution": {
     "iopub.execute_input": "2022-08-13T21:15:38.408875Z",
     "iopub.status.busy": "2022-08-13T21:15:38.408217Z",
     "iopub.status.idle": "2022-08-13T21:15:38.427702Z",
     "shell.execute_reply": "2022-08-13T21:15:38.426685Z"
    },
    "papermill": {
     "duration": 0.031819,
     "end_time": "2022-08-13T21:15:38.430539",
     "exception": false,
     "start_time": "2022-08-13T21:15:38.398720",
     "status": "completed"
    },
    "tags": []
   },
   "outputs": [
    {
     "data": {
      "application/javascript": [
       "parent.postMessage({\"jupyterEvent\": \"custom.exercise_interaction\", \"data\": {\"outcomeType\": 1, \"valueTowardsCompletion\": 0.25, \"interactionType\": 1, \"questionType\": 2, \"questionId\": \"3_ValPreds\", \"learnToolsVersion\": \"0.3.4\", \"failureMessage\": \"\", \"exceptionClass\": \"\", \"trace\": \"\"}}, \"*\")"
      ],
      "text/plain": [
       "<IPython.core.display.Javascript object>"
      ]
     },
     "metadata": {},
     "output_type": "display_data"
    },
    {
     "data": {
      "text/markdown": [
       "<span style=\"color:#33cc33\">Correct</span>"
      ],
      "text/plain": [
       "Correct"
      ]
     },
     "metadata": {},
     "output_type": "display_data"
    }
   ],
   "source": [
    "# Predict with all validation observations\n",
    "val_predictions = iowa_model.predict(val_X)\n",
    "\n",
    "# Check your answer\n",
    "step_3.check()"
   ]
  },
  {
   "cell_type": "code",
   "execution_count": 7,
   "id": "835ded6d",
   "metadata": {
    "execution": {
     "iopub.execute_input": "2022-08-13T21:15:38.449703Z",
     "iopub.status.busy": "2022-08-13T21:15:38.449016Z",
     "iopub.status.idle": "2022-08-13T21:15:38.453083Z",
     "shell.execute_reply": "2022-08-13T21:15:38.452250Z"
    },
    "papermill": {
     "duration": 0.016115,
     "end_time": "2022-08-13T21:15:38.455347",
     "exception": false,
     "start_time": "2022-08-13T21:15:38.439232",
     "status": "completed"
    },
    "tags": []
   },
   "outputs": [],
   "source": [
    "# step_3.hint()\n",
    "# step_3.solution()"
   ]
  },
  {
   "cell_type": "markdown",
   "id": "fc82949e",
   "metadata": {
    "papermill": {
     "duration": 0.005172,
     "end_time": "2022-08-13T21:15:38.466129",
     "exception": false,
     "start_time": "2022-08-13T21:15:38.460957",
     "status": "completed"
    },
    "tags": []
   },
   "source": [
    "Inspect your predictions and actual values from validation data."
   ]
  },
  {
   "cell_type": "code",
   "execution_count": 8,
   "id": "bd2cccc5",
   "metadata": {
    "execution": {
     "iopub.execute_input": "2022-08-13T21:15:38.479248Z",
     "iopub.status.busy": "2022-08-13T21:15:38.478566Z",
     "iopub.status.idle": "2022-08-13T21:15:38.488930Z",
     "shell.execute_reply": "2022-08-13T21:15:38.488081Z"
    },
    "papermill": {
     "duration": 0.01984,
     "end_time": "2022-08-13T21:15:38.491538",
     "exception": false,
     "start_time": "2022-08-13T21:15:38.471698",
     "status": "completed"
    },
    "tags": []
   },
   "outputs": [
    {
     "name": "stdout",
     "output_type": "stream",
     "text": [
      "      LotArea  YearBuilt  1stFlrSF  2ndFlrSF  FullBath  BedroomAbvGr  \\\n",
      "258     12435       2001       963       829         2             3   \n",
      "267      8400       1939      1052       720         2             4   \n",
      "288      9819       1967       900         0         1             3   \n",
      "649      1936       1970       630         0         1             1   \n",
      "1233    12160       1959      1188         0         1             3   \n",
      "\n",
      "      TotRmsAbvGrd  \n",
      "258              7  \n",
      "267              8  \n",
      "288              5  \n",
      "649              3  \n",
      "1233             6  \n",
      "\n"
     ]
    }
   ],
   "source": [
    "# print the top few validation predictions\n",
    "print(val_X.head())\n",
    "# print the top few actual prices from validation data\n",
    "print()"
   ]
  },
  {
   "cell_type": "markdown",
   "id": "0d183c79",
   "metadata": {
    "papermill": {
     "duration": 0.005517,
     "end_time": "2022-08-13T21:15:38.502845",
     "exception": false,
     "start_time": "2022-08-13T21:15:38.497328",
     "status": "completed"
    },
    "tags": []
   },
   "source": [
    "What do you notice that is different from what you saw with in-sample predictions (which are printed after the top code cell in this page).\n",
    "\n",
    "Do you remember why validation predictions differ from in-sample (or training) predictions? This is an important idea from the last lesson.\n",
    "\n",
    "## Step 4: Calculate the Mean Absolute Error in Validation Data\n"
   ]
  },
  {
   "cell_type": "code",
   "execution_count": 9,
   "id": "2d670f4f",
   "metadata": {
    "execution": {
     "iopub.execute_input": "2022-08-13T21:15:38.516347Z",
     "iopub.status.busy": "2022-08-13T21:15:38.515570Z",
     "iopub.status.idle": "2022-08-13T21:15:38.523401Z",
     "shell.execute_reply": "2022-08-13T21:15:38.522507Z"
    },
    "papermill": {
     "duration": 0.017265,
     "end_time": "2022-08-13T21:15:38.525766",
     "exception": false,
     "start_time": "2022-08-13T21:15:38.508501",
     "status": "completed"
    },
    "tags": []
   },
   "outputs": [
    {
     "data": {
      "application/javascript": [
       "parent.postMessage({\"jupyterEvent\": \"custom.exercise_interaction\", \"data\": {\"outcomeType\": 4, \"interactionType\": 1, \"questionType\": 1, \"questionId\": \"4_MAE\", \"learnToolsVersion\": \"0.3.4\", \"valueTowardsCompletion\": 0.0, \"failureMessage\": \"\", \"exceptionClass\": \"\", \"trace\": \"\"}}, \"*\")"
      ],
      "text/plain": [
       "<IPython.core.display.Javascript object>"
      ]
     },
     "metadata": {},
     "output_type": "display_data"
    },
    {
     "data": {
      "text/markdown": [
       "<span style=\"color:#ccaa33\">Check:</span> When you've updated the starter code, `check()` will tell you whether your code is correct. You need to update the code that creates variable `val_mae`"
      ],
      "text/plain": [
       "Check: When you've updated the starter code, `check()` will tell you whether your code is correct. You need to update the code that creates variable `val_mae`"
      ]
     },
     "metadata": {},
     "output_type": "display_data"
    }
   ],
   "source": [
    "from sklearn.metrics import mean_absolute_error\n",
    "val_mae = ____\n",
    "\n",
    "# uncomment following line to see the validation_mae\n",
    "#print(val_mae)\n",
    "\n",
    "# Check your answer\n",
    "step_4.check()"
   ]
  },
  {
   "cell_type": "code",
   "execution_count": 10,
   "id": "35750924",
   "metadata": {
    "execution": {
     "iopub.execute_input": "2022-08-13T21:15:38.540188Z",
     "iopub.status.busy": "2022-08-13T21:15:38.539414Z",
     "iopub.status.idle": "2022-08-13T21:15:38.543456Z",
     "shell.execute_reply": "2022-08-13T21:15:38.542557Z"
    },
    "papermill": {
     "duration": 0.013941,
     "end_time": "2022-08-13T21:15:38.545684",
     "exception": false,
     "start_time": "2022-08-13T21:15:38.531743",
     "status": "completed"
    },
    "tags": []
   },
   "outputs": [],
   "source": [
    "# step_4.hint()\n",
    "# step_4.solution()"
   ]
  },
  {
   "cell_type": "markdown",
   "id": "7e5ea1fc",
   "metadata": {
    "papermill": {
     "duration": 0.00585,
     "end_time": "2022-08-13T21:15:38.557867",
     "exception": false,
     "start_time": "2022-08-13T21:15:38.552017",
     "status": "completed"
    },
    "tags": []
   },
   "source": [
    "Is that MAE good?  There isn't a general rule for what values are good that applies across applications. But you'll see how to use (and improve) this number in the next step.\n",
    "\n",
    "# Keep Going\n",
    "\n",
    "You are ready for **[Underfitting and Overfitting](https://www.kaggle.com/dansbecker/underfitting-and-overfitting).**\n"
   ]
  },
  {
   "cell_type": "markdown",
   "id": "875348d4",
   "metadata": {
    "papermill": {
     "duration": 0.006495,
     "end_time": "2022-08-13T21:15:38.571166",
     "exception": false,
     "start_time": "2022-08-13T21:15:38.564671",
     "status": "completed"
    },
    "tags": []
   },
   "source": [
    "---\n",
    "\n",
    "\n",
    "\n",
    "\n",
    "*Have questions or comments? Visit the [course discussion forum](https://www.kaggle.com/learn/intro-to-machine-learning/discussion) to chat with other learners.*"
   ]
  }
 ],
 "metadata": {
  "kernelspec": {
   "display_name": "Python 3",
   "language": "python",
   "name": "python3"
  },
  "language_info": {
   "codemirror_mode": {
    "name": "ipython",
    "version": 3
   },
   "file_extension": ".py",
   "mimetype": "text/x-python",
   "name": "python",
   "nbconvert_exporter": "python",
   "pygments_lexer": "ipython3",
   "version": "3.7.12"
  },
  "papermill": {
   "default_parameters": {},
   "duration": 11.894562,
   "end_time": "2022-08-13T21:15:39.299975",
   "environment_variables": {},
   "exception": null,
   "input_path": "__notebook__.ipynb",
   "output_path": "__notebook__.ipynb",
   "parameters": {},
   "start_time": "2022-08-13T21:15:27.405413",
   "version": "2.3.4"
  }
 },
 "nbformat": 4,
 "nbformat_minor": 5
}
