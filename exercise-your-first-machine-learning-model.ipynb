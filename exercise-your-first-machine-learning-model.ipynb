{
 "cells": [
  {
   "cell_type": "markdown",
   "id": "58f25b8f",
   "metadata": {
    "papermill": {
     "duration": 0.006285,
     "end_time": "2022-08-13T21:15:09.416375",
     "exception": false,
     "start_time": "2022-08-13T21:15:09.410090",
     "status": "completed"
    },
    "tags": []
   },
   "source": [
    "**This notebook is an exercise in the [Introduction to Machine Learning](https://www.kaggle.com/learn/intro-to-machine-learning) course.  You can reference the tutorial at [this link](https://www.kaggle.com/dansbecker/your-first-machine-learning-model).**\n",
    "\n",
    "---\n"
   ]
  },
  {
   "cell_type": "markdown",
   "id": "c5b86ce5",
   "metadata": {
    "papermill": {
     "duration": 0.004661,
     "end_time": "2022-08-13T21:15:09.426267",
     "exception": false,
     "start_time": "2022-08-13T21:15:09.421606",
     "status": "completed"
    },
    "tags": []
   },
   "source": [
    "## Recap\n",
    "So far, you have loaded your data and reviewed it with the following code. Run this cell to set up your coding environment where the previous step left off."
   ]
  },
  {
   "cell_type": "code",
   "execution_count": 1,
   "id": "58bbed80",
   "metadata": {
    "execution": {
     "iopub.execute_input": "2022-08-13T21:15:09.438578Z",
     "iopub.status.busy": "2022-08-13T21:15:09.437602Z",
     "iopub.status.idle": "2022-08-13T21:15:10.742944Z",
     "shell.execute_reply": "2022-08-13T21:15:10.741801Z"
    },
    "papermill": {
     "duration": 1.31531,
     "end_time": "2022-08-13T21:15:10.746597",
     "exception": false,
     "start_time": "2022-08-13T21:15:09.431287",
     "status": "completed"
    },
    "tags": []
   },
   "outputs": [
    {
     "name": "stdout",
     "output_type": "stream",
     "text": [
      "Setup Complete\n"
     ]
    }
   ],
   "source": [
    "# Code you have previously used to load data\n",
    "import pandas as pd\n",
    "\n",
    "# Path of the file to read\n",
    "iowa_file_path = '../input/home-data-for-ml-course/train.csv'\n",
    "\n",
    "home_data = pd.read_csv(iowa_file_path)\n",
    "\n",
    "# Set up code checking\n",
    "from learntools.core import binder\n",
    "binder.bind(globals())\n",
    "from learntools.machine_learning.ex3 import *\n",
    "\n",
    "print(\"Setup Complete\")"
   ]
  },
  {
   "cell_type": "markdown",
   "id": "9bcc44ed",
   "metadata": {
    "papermill": {
     "duration": 0.004858,
     "end_time": "2022-08-13T21:15:10.757009",
     "exception": false,
     "start_time": "2022-08-13T21:15:10.752151",
     "status": "completed"
    },
    "tags": []
   },
   "source": [
    "# Exercises\n",
    "\n",
    "## Step 1: Specify Prediction Target\n",
    "Select the target variable, which corresponds to the sales price. Save this to a new variable called `y`. You'll need to print a list of the columns to find the name of the column you need.\n"
   ]
  },
  {
   "cell_type": "code",
   "execution_count": 2,
   "id": "0d569780",
   "metadata": {
    "execution": {
     "iopub.execute_input": "2022-08-13T21:15:10.769989Z",
     "iopub.status.busy": "2022-08-13T21:15:10.768738Z",
     "iopub.status.idle": "2022-08-13T21:15:10.778704Z",
     "shell.execute_reply": "2022-08-13T21:15:10.777684Z"
    },
    "papermill": {
     "duration": 0.018853,
     "end_time": "2022-08-13T21:15:10.781120",
     "exception": false,
     "start_time": "2022-08-13T21:15:10.762267",
     "status": "completed"
    },
    "tags": []
   },
   "outputs": [
    {
     "data": {
      "text/plain": [
       "Index(['Id', 'MSSubClass', 'MSZoning', 'LotFrontage', 'LotArea', 'Street',\n",
       "       'Alley', 'LotShape', 'LandContour', 'Utilities', 'LotConfig',\n",
       "       'LandSlope', 'Neighborhood', 'Condition1', 'Condition2', 'BldgType',\n",
       "       'HouseStyle', 'OverallQual', 'OverallCond', 'YearBuilt', 'YearRemodAdd',\n",
       "       'RoofStyle', 'RoofMatl', 'Exterior1st', 'Exterior2nd', 'MasVnrType',\n",
       "       'MasVnrArea', 'ExterQual', 'ExterCond', 'Foundation', 'BsmtQual',\n",
       "       'BsmtCond', 'BsmtExposure', 'BsmtFinType1', 'BsmtFinSF1',\n",
       "       'BsmtFinType2', 'BsmtFinSF2', 'BsmtUnfSF', 'TotalBsmtSF', 'Heating',\n",
       "       'HeatingQC', 'CentralAir', 'Electrical', '1stFlrSF', '2ndFlrSF',\n",
       "       'LowQualFinSF', 'GrLivArea', 'BsmtFullBath', 'BsmtHalfBath', 'FullBath',\n",
       "       'HalfBath', 'BedroomAbvGr', 'KitchenAbvGr', 'KitchenQual',\n",
       "       'TotRmsAbvGrd', 'Functional', 'Fireplaces', 'FireplaceQu', 'GarageType',\n",
       "       'GarageYrBlt', 'GarageFinish', 'GarageCars', 'GarageArea', 'GarageQual',\n",
       "       'GarageCond', 'PavedDrive', 'WoodDeckSF', 'OpenPorchSF',\n",
       "       'EnclosedPorch', '3SsnPorch', 'ScreenPorch', 'PoolArea', 'PoolQC',\n",
       "       'Fence', 'MiscFeature', 'MiscVal', 'MoSold', 'YrSold', 'SaleType',\n",
       "       'SaleCondition', 'SalePrice'],\n",
       "      dtype='object')"
      ]
     },
     "execution_count": 2,
     "metadata": {},
     "output_type": "execute_result"
    }
   ],
   "source": [
    "# print the list of columns in the dataset to find the name of the prediction target\n",
    "home_data.columns"
   ]
  },
  {
   "cell_type": "code",
   "execution_count": 3,
   "id": "de697a69",
   "metadata": {
    "execution": {
     "iopub.execute_input": "2022-08-13T21:15:10.793769Z",
     "iopub.status.busy": "2022-08-13T21:15:10.793392Z",
     "iopub.status.idle": "2022-08-13T21:15:10.807141Z",
     "shell.execute_reply": "2022-08-13T21:15:10.806061Z"
    },
    "papermill": {
     "duration": 0.023014,
     "end_time": "2022-08-13T21:15:10.809617",
     "exception": false,
     "start_time": "2022-08-13T21:15:10.786603",
     "status": "completed"
    },
    "tags": []
   },
   "outputs": [
    {
     "data": {
      "application/javascript": [
       "parent.postMessage({\"jupyterEvent\": \"custom.exercise_interaction\", \"data\": {\"outcomeType\": 1, \"valueTowardsCompletion\": 0.25, \"interactionType\": 1, \"questionType\": 2, \"questionId\": \"1_SetTarget\", \"learnToolsVersion\": \"0.3.4\", \"failureMessage\": \"\", \"exceptionClass\": \"\", \"trace\": \"\"}}, \"*\")"
      ],
      "text/plain": [
       "<IPython.core.display.Javascript object>"
      ]
     },
     "metadata": {},
     "output_type": "display_data"
    },
    {
     "data": {
      "text/markdown": [
       "<span style=\"color:#33cc33\">Correct</span>"
      ],
      "text/plain": [
       "Correct"
      ]
     },
     "metadata": {},
     "output_type": "display_data"
    }
   ],
   "source": [
    "y =home_data.SalePrice\n",
    "\n",
    "# Check your answer\n",
    "step_1.check()"
   ]
  },
  {
   "cell_type": "code",
   "execution_count": 4,
   "id": "d84e049d",
   "metadata": {
    "collapsed": true,
    "execution": {
     "iopub.execute_input": "2022-08-13T21:15:10.822759Z",
     "iopub.status.busy": "2022-08-13T21:15:10.822367Z",
     "iopub.status.idle": "2022-08-13T21:15:10.826856Z",
     "shell.execute_reply": "2022-08-13T21:15:10.825709Z"
    },
    "jupyter": {
     "outputs_hidden": true
    },
    "papermill": {
     "duration": 0.014076,
     "end_time": "2022-08-13T21:15:10.829247",
     "exception": false,
     "start_time": "2022-08-13T21:15:10.815171",
     "status": "completed"
    },
    "tags": []
   },
   "outputs": [],
   "source": [
    "# The lines below will show you a hint or the solution.\n",
    "# step_1.hint() \n",
    "# step_1.solution()"
   ]
  },
  {
   "cell_type": "markdown",
   "id": "405d47d1",
   "metadata": {
    "papermill": {
     "duration": 0.005155,
     "end_time": "2022-08-13T21:15:10.839948",
     "exception": false,
     "start_time": "2022-08-13T21:15:10.834793",
     "status": "completed"
    },
    "tags": []
   },
   "source": [
    "## Step 2: Create X\n",
    "Now you will create a DataFrame called `X` holding the predictive features.\n",
    "\n",
    "Since you want only some columns from the original data, you'll first create a list with the names of the columns you want in `X`.\n",
    "\n",
    "You'll use just the following columns in the list (you can copy and paste the whole list to save some typing, though you'll still need to add quotes):\n",
    "  * LotArea\n",
    "  * YearBuilt\n",
    "  * 1stFlrSF\n",
    "  * 2ndFlrSF\n",
    "  * FullBath\n",
    "  * BedroomAbvGr\n",
    "  * TotRmsAbvGrd\n",
    "\n",
    "After you've created that list of features, use it to create the DataFrame that you'll use to fit the model."
   ]
  },
  {
   "cell_type": "code",
   "execution_count": 5,
   "id": "2966f18c",
   "metadata": {
    "execution": {
     "iopub.execute_input": "2022-08-13T21:15:10.852940Z",
     "iopub.status.busy": "2022-08-13T21:15:10.852556Z",
     "iopub.status.idle": "2022-08-13T21:15:10.866954Z",
     "shell.execute_reply": "2022-08-13T21:15:10.866130Z"
    },
    "papermill": {
     "duration": 0.023583,
     "end_time": "2022-08-13T21:15:10.869140",
     "exception": false,
     "start_time": "2022-08-13T21:15:10.845557",
     "status": "completed"
    },
    "tags": []
   },
   "outputs": [
    {
     "data": {
      "application/javascript": [
       "parent.postMessage({\"jupyterEvent\": \"custom.exercise_interaction\", \"data\": {\"outcomeType\": 1, \"valueTowardsCompletion\": 0.25, \"interactionType\": 1, \"questionType\": 2, \"questionId\": \"2_SelectPredictionData\", \"learnToolsVersion\": \"0.3.4\", \"failureMessage\": \"\", \"exceptionClass\": \"\", \"trace\": \"\"}}, \"*\")"
      ],
      "text/plain": [
       "<IPython.core.display.Javascript object>"
      ]
     },
     "metadata": {},
     "output_type": "display_data"
    },
    {
     "data": {
      "text/markdown": [
       "<span style=\"color:#33cc33\">Correct</span>"
      ],
      "text/plain": [
       "Correct"
      ]
     },
     "metadata": {},
     "output_type": "display_data"
    }
   ],
   "source": [
    "# Create the list of features below\n",
    "feature_names = ['LotArea', 'YearBuilt', '1stFlrSF', '2ndFlrSF', 'FullBath', 'BedroomAbvGr', 'TotRmsAbvGrd']\n",
    "\n",
    "# Select data corresponding to features in feature_names\n",
    "X = home_data[feature_names]\n",
    "# Check your answer\n",
    "step_2.check()"
   ]
  },
  {
   "cell_type": "code",
   "execution_count": 6,
   "id": "2e2e41f9",
   "metadata": {
    "collapsed": true,
    "execution": {
     "iopub.execute_input": "2022-08-13T21:15:10.883364Z",
     "iopub.status.busy": "2022-08-13T21:15:10.882252Z",
     "iopub.status.idle": "2022-08-13T21:15:10.886890Z",
     "shell.execute_reply": "2022-08-13T21:15:10.885817Z"
    },
    "jupyter": {
     "outputs_hidden": true
    },
    "papermill": {
     "duration": 0.014308,
     "end_time": "2022-08-13T21:15:10.889244",
     "exception": false,
     "start_time": "2022-08-13T21:15:10.874936",
     "status": "completed"
    },
    "tags": []
   },
   "outputs": [],
   "source": [
    "# step_2.hint()\n",
    "# step_2.solution()"
   ]
  },
  {
   "cell_type": "markdown",
   "id": "909a1182",
   "metadata": {
    "papermill": {
     "duration": 0.005708,
     "end_time": "2022-08-13T21:15:10.900957",
     "exception": false,
     "start_time": "2022-08-13T21:15:10.895249",
     "status": "completed"
    },
    "tags": []
   },
   "source": [
    "## Review Data\n",
    "Before building a model, take a quick look at **X** to verify it looks sensible"
   ]
  },
  {
   "cell_type": "code",
   "execution_count": 7,
   "id": "dc3aaaf1",
   "metadata": {
    "execution": {
     "iopub.execute_input": "2022-08-13T21:15:10.914593Z",
     "iopub.status.busy": "2022-08-13T21:15:10.914182Z",
     "iopub.status.idle": "2022-08-13T21:15:10.957577Z",
     "shell.execute_reply": "2022-08-13T21:15:10.956374Z"
    },
    "papermill": {
     "duration": 0.05325,
     "end_time": "2022-08-13T21:15:10.960171",
     "exception": false,
     "start_time": "2022-08-13T21:15:10.906921",
     "status": "completed"
    },
    "tags": []
   },
   "outputs": [
    {
     "data": {
      "text/html": [
       "<div>\n",
       "<style scoped>\n",
       "    .dataframe tbody tr th:only-of-type {\n",
       "        vertical-align: middle;\n",
       "    }\n",
       "\n",
       "    .dataframe tbody tr th {\n",
       "        vertical-align: top;\n",
       "    }\n",
       "\n",
       "    .dataframe thead th {\n",
       "        text-align: right;\n",
       "    }\n",
       "</style>\n",
       "<table border=\"1\" class=\"dataframe\">\n",
       "  <thead>\n",
       "    <tr style=\"text-align: right;\">\n",
       "      <th></th>\n",
       "      <th>LotArea</th>\n",
       "      <th>YearBuilt</th>\n",
       "      <th>1stFlrSF</th>\n",
       "      <th>2ndFlrSF</th>\n",
       "      <th>FullBath</th>\n",
       "      <th>BedroomAbvGr</th>\n",
       "      <th>TotRmsAbvGrd</th>\n",
       "    </tr>\n",
       "  </thead>\n",
       "  <tbody>\n",
       "    <tr>\n",
       "      <th>count</th>\n",
       "      <td>1460.000000</td>\n",
       "      <td>1460.000000</td>\n",
       "      <td>1460.000000</td>\n",
       "      <td>1460.000000</td>\n",
       "      <td>1460.000000</td>\n",
       "      <td>1460.000000</td>\n",
       "      <td>1460.000000</td>\n",
       "    </tr>\n",
       "    <tr>\n",
       "      <th>mean</th>\n",
       "      <td>10516.828082</td>\n",
       "      <td>1971.267808</td>\n",
       "      <td>1162.626712</td>\n",
       "      <td>346.992466</td>\n",
       "      <td>1.565068</td>\n",
       "      <td>2.866438</td>\n",
       "      <td>6.517808</td>\n",
       "    </tr>\n",
       "    <tr>\n",
       "      <th>std</th>\n",
       "      <td>9981.264932</td>\n",
       "      <td>30.202904</td>\n",
       "      <td>386.587738</td>\n",
       "      <td>436.528436</td>\n",
       "      <td>0.550916</td>\n",
       "      <td>0.815778</td>\n",
       "      <td>1.625393</td>\n",
       "    </tr>\n",
       "    <tr>\n",
       "      <th>min</th>\n",
       "      <td>1300.000000</td>\n",
       "      <td>1872.000000</td>\n",
       "      <td>334.000000</td>\n",
       "      <td>0.000000</td>\n",
       "      <td>0.000000</td>\n",
       "      <td>0.000000</td>\n",
       "      <td>2.000000</td>\n",
       "    </tr>\n",
       "    <tr>\n",
       "      <th>25%</th>\n",
       "      <td>7553.500000</td>\n",
       "      <td>1954.000000</td>\n",
       "      <td>882.000000</td>\n",
       "      <td>0.000000</td>\n",
       "      <td>1.000000</td>\n",
       "      <td>2.000000</td>\n",
       "      <td>5.000000</td>\n",
       "    </tr>\n",
       "  </tbody>\n",
       "</table>\n",
       "</div>"
      ],
      "text/plain": [
       "            LotArea    YearBuilt     1stFlrSF     2ndFlrSF     FullBath  \\\n",
       "count   1460.000000  1460.000000  1460.000000  1460.000000  1460.000000   \n",
       "mean   10516.828082  1971.267808  1162.626712   346.992466     1.565068   \n",
       "std     9981.264932    30.202904   386.587738   436.528436     0.550916   \n",
       "min     1300.000000  1872.000000   334.000000     0.000000     0.000000   \n",
       "25%     7553.500000  1954.000000   882.000000     0.000000     1.000000   \n",
       "\n",
       "       BedroomAbvGr  TotRmsAbvGrd  \n",
       "count   1460.000000   1460.000000  \n",
       "mean       2.866438      6.517808  \n",
       "std        0.815778      1.625393  \n",
       "min        0.000000      2.000000  \n",
       "25%        2.000000      5.000000  "
      ]
     },
     "execution_count": 7,
     "metadata": {},
     "output_type": "execute_result"
    }
   ],
   "source": [
    "# Review data\n",
    "# print description or statistics from X\n",
    "#print(_)\n",
    "X.describe().head()\n",
    "# print the top few lines\n",
    "#print(_)"
   ]
  },
  {
   "cell_type": "markdown",
   "id": "cdf1a059",
   "metadata": {
    "papermill": {
     "duration": 0.005652,
     "end_time": "2022-08-13T21:15:10.971938",
     "exception": false,
     "start_time": "2022-08-13T21:15:10.966286",
     "status": "completed"
    },
    "tags": []
   },
   "source": [
    "## Step 3: Specify and Fit Model\n",
    "Create a `DecisionTreeRegressor` and save it iowa_model. Ensure you've done the relevant import from sklearn to run this command.\n",
    "\n",
    "Then fit the model you just created using the data in `X` and `y` that you saved above."
   ]
  },
  {
   "cell_type": "code",
   "execution_count": 8,
   "id": "74d32088",
   "metadata": {
    "execution": {
     "iopub.execute_input": "2022-08-13T21:15:10.986565Z",
     "iopub.status.busy": "2022-08-13T21:15:10.986167Z",
     "iopub.status.idle": "2022-08-13T21:15:11.006239Z",
     "shell.execute_reply": "2022-08-13T21:15:11.005111Z"
    },
    "papermill": {
     "duration": 0.030846,
     "end_time": "2022-08-13T21:15:11.008725",
     "exception": false,
     "start_time": "2022-08-13T21:15:10.977879",
     "status": "completed"
    },
    "tags": []
   },
   "outputs": [
    {
     "data": {
      "application/javascript": [
       "parent.postMessage({\"jupyterEvent\": \"custom.exercise_interaction\", \"data\": {\"outcomeType\": 1, \"valueTowardsCompletion\": 0.25, \"interactionType\": 1, \"questionType\": 2, \"questionId\": \"3_CreateModel\", \"learnToolsVersion\": \"0.3.4\", \"failureMessage\": \"\", \"exceptionClass\": \"\", \"trace\": \"\"}}, \"*\")"
      ],
      "text/plain": [
       "<IPython.core.display.Javascript object>"
      ]
     },
     "metadata": {},
     "output_type": "display_data"
    },
    {
     "data": {
      "text/markdown": [
       "<span style=\"color:#33cc33\">Correct</span>"
      ],
      "text/plain": [
       "Correct"
      ]
     },
     "metadata": {},
     "output_type": "display_data"
    }
   ],
   "source": [
    "# from _ import _\n",
    "#specify the model. \n",
    "#For model reproducibility, set a numeric value for random_state when specifying the model\n",
    "from sklearn.tree import DecisionTreeRegressor\n",
    "iowa_model = DecisionTreeRegressor(random_state=1)\n",
    "\n",
    "# Fit the model\n",
    "iowa_model.fit(X, y)\n",
    "\n",
    "# Check your answer\n",
    "step_3.check()"
   ]
  },
  {
   "cell_type": "code",
   "execution_count": 9,
   "id": "ae1e71d4",
   "metadata": {
    "collapsed": true,
    "execution": {
     "iopub.execute_input": "2022-08-13T21:15:11.023241Z",
     "iopub.status.busy": "2022-08-13T21:15:11.022724Z",
     "iopub.status.idle": "2022-08-13T21:15:11.028886Z",
     "shell.execute_reply": "2022-08-13T21:15:11.026924Z"
    },
    "jupyter": {
     "outputs_hidden": true
    },
    "papermill": {
     "duration": 0.017622,
     "end_time": "2022-08-13T21:15:11.032450",
     "exception": false,
     "start_time": "2022-08-13T21:15:11.014828",
     "status": "completed"
    },
    "tags": []
   },
   "outputs": [],
   "source": [
    "# step_3.hint()\n",
    "# step_3.solution()"
   ]
  },
  {
   "cell_type": "markdown",
   "id": "f3bd3853",
   "metadata": {
    "papermill": {
     "duration": 0.007249,
     "end_time": "2022-08-13T21:15:11.047729",
     "exception": false,
     "start_time": "2022-08-13T21:15:11.040480",
     "status": "completed"
    },
    "tags": []
   },
   "source": [
    "## Step 4: Make Predictions\n",
    "Make predictions with the model's `predict` command using `X` as the data. Save the results to a variable called `predictions`."
   ]
  },
  {
   "cell_type": "code",
   "execution_count": 10,
   "id": "c18c9510",
   "metadata": {
    "collapsed": true,
    "execution": {
     "iopub.execute_input": "2022-08-13T21:15:11.068352Z",
     "iopub.status.busy": "2022-08-13T21:15:11.067425Z",
     "iopub.status.idle": "2022-08-13T21:15:11.082190Z",
     "shell.execute_reply": "2022-08-13T21:15:11.080745Z"
    },
    "jupyter": {
     "outputs_hidden": true
    },
    "papermill": {
     "duration": 0.028104,
     "end_time": "2022-08-13T21:15:11.084927",
     "exception": false,
     "start_time": "2022-08-13T21:15:11.056823",
     "status": "completed"
    },
    "tags": []
   },
   "outputs": [
    {
     "name": "stdout",
     "output_type": "stream",
     "text": [
      "[208500. 181500. 223500. ... 266500. 142125. 147500.]\n"
     ]
    },
    {
     "data": {
      "application/javascript": [
       "parent.postMessage({\"jupyterEvent\": \"custom.exercise_interaction\", \"data\": {\"outcomeType\": 1, \"valueTowardsCompletion\": 0.25, \"interactionType\": 1, \"questionType\": 2, \"questionId\": \"4_MakePredictions\", \"learnToolsVersion\": \"0.3.4\", \"failureMessage\": \"\", \"exceptionClass\": \"\", \"trace\": \"\"}}, \"*\")"
      ],
      "text/plain": [
       "<IPython.core.display.Javascript object>"
      ]
     },
     "metadata": {},
     "output_type": "display_data"
    },
    {
     "data": {
      "text/markdown": [
       "<span style=\"color:#33cc33\">Correct</span>"
      ],
      "text/plain": [
       "Correct"
      ]
     },
     "metadata": {},
     "output_type": "display_data"
    }
   ],
   "source": [
    "predictions =iowa_model.predict(X)\n",
    "print(predictions)\n",
    "\n",
    "\n",
    "# Check your answer\n",
    "step_4.check()"
   ]
  },
  {
   "cell_type": "code",
   "execution_count": 11,
   "id": "808b17ad",
   "metadata": {
    "collapsed": true,
    "execution": {
     "iopub.execute_input": "2022-08-13T21:15:11.106864Z",
     "iopub.status.busy": "2022-08-13T21:15:11.106292Z",
     "iopub.status.idle": "2022-08-13T21:15:11.112393Z",
     "shell.execute_reply": "2022-08-13T21:15:11.111130Z"
    },
    "jupyter": {
     "outputs_hidden": true
    },
    "papermill": {
     "duration": 0.019993,
     "end_time": "2022-08-13T21:15:11.115011",
     "exception": false,
     "start_time": "2022-08-13T21:15:11.095018",
     "status": "completed"
    },
    "tags": []
   },
   "outputs": [],
   "source": [
    "# step_4.hint()\n",
    "# step_4.solution()"
   ]
  },
  {
   "cell_type": "markdown",
   "id": "dba6c0d0",
   "metadata": {
    "papermill": {
     "duration": 0.006457,
     "end_time": "2022-08-13T21:15:11.128359",
     "exception": false,
     "start_time": "2022-08-13T21:15:11.121902",
     "status": "completed"
    },
    "tags": []
   },
   "source": [
    "## Think About Your Results\n",
    "\n",
    "Use the `head` method to compare the top few predictions to the actual home values (in `y`) for those same homes. Anything surprising?\n"
   ]
  },
  {
   "cell_type": "code",
   "execution_count": 12,
   "id": "947c94f0",
   "metadata": {
    "execution": {
     "iopub.execute_input": "2022-08-13T21:15:11.144428Z",
     "iopub.status.busy": "2022-08-13T21:15:11.142993Z",
     "iopub.status.idle": "2022-08-13T21:15:11.148851Z",
     "shell.execute_reply": "2022-08-13T21:15:11.147980Z"
    },
    "papermill": {
     "duration": 0.016267,
     "end_time": "2022-08-13T21:15:11.151299",
     "exception": false,
     "start_time": "2022-08-13T21:15:11.135032",
     "status": "completed"
    },
    "tags": []
   },
   "outputs": [],
   "source": [
    "# You can write code in this cell\n"
   ]
  },
  {
   "cell_type": "markdown",
   "id": "f4140562",
   "metadata": {
    "papermill": {
     "duration": 0.006726,
     "end_time": "2022-08-13T21:15:11.165251",
     "exception": false,
     "start_time": "2022-08-13T21:15:11.158525",
     "status": "completed"
    },
    "tags": []
   },
   "source": [
    "It's natural to ask how accurate the model's predictions will be and how you can improve that. That will be you're next step.\n",
    "\n",
    "# Keep Going\n",
    "\n",
    "You are ready for **[Model Validation](https://www.kaggle.com/dansbecker/model-validation).**\n"
   ]
  },
  {
   "cell_type": "markdown",
   "id": "177b631e",
   "metadata": {
    "papermill": {
     "duration": 0.006349,
     "end_time": "2022-08-13T21:15:11.178565",
     "exception": false,
     "start_time": "2022-08-13T21:15:11.172216",
     "status": "completed"
    },
    "tags": []
   },
   "source": [
    "---\n",
    "\n",
    "\n",
    "\n",
    "\n",
    "*Have questions or comments? Visit the [course discussion forum](https://www.kaggle.com/learn/intro-to-machine-learning/discussion) to chat with other learners.*"
   ]
  }
 ],
 "metadata": {
  "kernelspec": {
   "display_name": "Python 3",
   "language": "python",
   "name": "python3"
  },
  "language_info": {
   "codemirror_mode": {
    "name": "ipython",
    "version": 3
   },
   "file_extension": ".py",
   "mimetype": "text/x-python",
   "name": "python",
   "nbconvert_exporter": "python",
   "pygments_lexer": "ipython3",
   "version": "3.7.12"
  },
  "papermill": {
   "default_parameters": {},
   "duration": 11.876452,
   "end_time": "2022-08-13T21:15:12.009301",
   "environment_variables": {},
   "exception": null,
   "input_path": "__notebook__.ipynb",
   "output_path": "__notebook__.ipynb",
   "parameters": {},
   "start_time": "2022-08-13T21:15:00.132849",
   "version": "2.3.4"
  }
 },
 "nbformat": 4,
 "nbformat_minor": 5
}
